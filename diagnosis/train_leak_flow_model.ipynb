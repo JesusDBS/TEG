{
 "cells": [
  {
   "cell_type": "code",
   "execution_count": 2,
   "metadata": {},
   "outputs": [
    {
     "name": "stderr",
     "output_type": "stream",
     "text": [
      "c:\\Users\\HP\\Desktop\\projects\\TEG\\env\\lib\\site-packages\\statsmodels\\compat\\pandas.py:65: FutureWarning: pandas.Int64Index is deprecated and will be removed from pandas in a future version. Use pandas.Index with the appropriate dtype instead.\n",
      "  from pandas import Int64Index as NumericIndex\n"
     ]
    }
   ],
   "source": [
    "from lstm_diagnosis import DiagnosisTrainingModelPipeline, DiagnosisTestingRegressionModel, plot_learning_curve"
   ]
  },
  {
   "cell_type": "markdown",
   "metadata": {},
   "source": [
    "# Training the model"
   ]
  },
  {
   "cell_type": "code",
   "execution_count": 2,
   "metadata": {},
   "outputs": [
    {
     "name": "stdout",
     "output_type": "stream",
     "text": [
      ".........load_dataset is done.........\n",
      ".........scale_input_data is done.........\n",
      ".........scale_output_data is done.........\n",
      ".........lstm_data_transform is done.........\n",
      ".........split_data is done.........\n",
      "Epoch 1/100\n",
      "3318/3318 [==============================] - 36s 10ms/step - loss: 0.1101 - msle: 0.0249 - val_loss: 0.0449 - val_msle: 0.0103\n",
      "Epoch 2/100\n",
      "3318/3318 [==============================] - 28s 9ms/step - loss: 0.0405 - msle: 0.0087 - val_loss: 0.0304 - val_msle: 0.0063\n",
      "Epoch 3/100\n",
      "3318/3318 [==============================] - 31s 9ms/step - loss: 0.0315 - msle: 0.0065 - val_loss: 0.0261 - val_msle: 0.0055\n",
      "Epoch 4/100\n",
      "3318/3318 [==============================] - 29s 9ms/step - loss: 0.0279 - msle: 0.0057 - val_loss: 0.0240 - val_msle: 0.0049\n",
      "Epoch 5/100\n",
      "3318/3318 [==============================] - 30s 9ms/step - loss: 0.0259 - msle: 0.0053 - val_loss: 0.0226 - val_msle: 0.0047\n",
      "Epoch 6/100\n",
      "3318/3318 [==============================] - 33s 10ms/step - loss: 0.0247 - msle: 0.0051 - val_loss: 0.0217 - val_msle: 0.0046\n",
      "Epoch 7/100\n",
      "3318/3318 [==============================] - 31s 9ms/step - loss: 0.0240 - msle: 0.0049 - val_loss: 0.0213 - val_msle: 0.0044\n",
      "Epoch 8/100\n",
      "3318/3318 [==============================] - 27s 8ms/step - loss: 0.0234 - msle: 0.0048 - val_loss: 0.0210 - val_msle: 0.0043\n",
      "Epoch 9/100\n",
      "3318/3318 [==============================] - 29s 9ms/step - loss: 0.0230 - msle: 0.0048 - val_loss: 0.0204 - val_msle: 0.0043\n",
      "Epoch 10/100\n",
      "3318/3318 [==============================] - 27s 8ms/step - loss: 0.0227 - msle: 0.0047 - val_loss: 0.0206 - val_msle: 0.0042\n",
      "Epoch 11/100\n",
      "3318/3318 [==============================] - 2590s 781ms/step - loss: 0.0224 - msle: 0.0046 - val_loss: 0.0199 - val_msle: 0.0041\n",
      "Epoch 12/100\n",
      "3318/3318 [==============================] - 27s 8ms/step - loss: 0.0222 - msle: 0.0046 - val_loss: 0.0197 - val_msle: 0.0041\n",
      "Epoch 13/100\n",
      "3318/3318 [==============================] - 28s 9ms/step - loss: 0.0220 - msle: 0.0046 - val_loss: 0.0194 - val_msle: 0.0041\n",
      "Epoch 14/100\n",
      "3318/3318 [==============================] - 26s 8ms/step - loss: 0.0219 - msle: 0.0046 - val_loss: 0.0193 - val_msle: 0.0041\n",
      "Epoch 15/100\n",
      "3318/3318 [==============================] - 29s 9ms/step - loss: 0.0217 - msle: 0.0045 - val_loss: 0.0193 - val_msle: 0.0040\n",
      "Epoch 16/100\n",
      "3318/3318 [==============================] - 27s 8ms/step - loss: 0.0216 - msle: 0.0045 - val_loss: 0.0191 - val_msle: 0.0040\n",
      "Epoch 17/100\n",
      "3318/3318 [==============================] - 26s 8ms/step - loss: 0.0215 - msle: 0.0045 - val_loss: 0.0192 - val_msle: 0.0041\n",
      "Epoch 18/100\n",
      "3318/3318 [==============================] - 26s 8ms/step - loss: 0.0214 - msle: 0.0045 - val_loss: 0.0190 - val_msle: 0.0040\n",
      "Epoch 19/100\n",
      "3318/3318 [==============================] - 28s 8ms/step - loss: 0.0213 - msle: 0.0045 - val_loss: 0.0189 - val_msle: 0.0040\n",
      "Epoch 20/100\n",
      "3318/3318 [==============================] - 28s 8ms/step - loss: 0.0212 - msle: 0.0044 - val_loss: 0.0189 - val_msle: 0.0040\n",
      "Epoch 21/100\n",
      "3318/3318 [==============================] - 27s 8ms/step - loss: 0.0211 - msle: 0.0044 - val_loss: 0.0187 - val_msle: 0.0040\n",
      "Epoch 22/100\n",
      "3318/3318 [==============================] - 26s 8ms/step - loss: 0.0211 - msle: 0.0044 - val_loss: 0.0187 - val_msle: 0.0039\n",
      "Epoch 23/100\n",
      "3318/3318 [==============================] - 28s 9ms/step - loss: 0.0210 - msle: 0.0044 - val_loss: 0.0187 - val_msle: 0.0040\n",
      "Epoch 24/100\n",
      "3318/3318 [==============================] - 30s 9ms/step - loss: 0.0209 - msle: 0.0044 - val_loss: 0.0185 - val_msle: 0.0039\n",
      "Epoch 25/100\n",
      "3318/3318 [==============================] - 27s 8ms/step - loss: 0.0209 - msle: 0.0044 - val_loss: 0.0184 - val_msle: 0.0039\n",
      "Epoch 26/100\n",
      "3318/3318 [==============================] - 27s 8ms/step - loss: 0.0208 - msle: 0.0044 - val_loss: 0.0185 - val_msle: 0.0039\n",
      "Epoch 27/100\n",
      "3318/3318 [==============================] - 26s 8ms/step - loss: 0.0208 - msle: 0.0044 - val_loss: 0.0183 - val_msle: 0.0039\n",
      "Epoch 28/100\n",
      "3318/3318 [==============================] - 26s 8ms/step - loss: 0.0207 - msle: 0.0043 - val_loss: 0.0182 - val_msle: 0.0039\n",
      "Epoch 29/100\n",
      "3318/3318 [==============================] - 26s 8ms/step - loss: 0.0206 - msle: 0.0043 - val_loss: 0.0183 - val_msle: 0.0039\n",
      "Epoch 30/100\n",
      "3318/3318 [==============================] - 28s 8ms/step - loss: 0.0206 - msle: 0.0043 - val_loss: 0.0184 - val_msle: 0.0039\n",
      "Epoch 31/100\n",
      "3318/3318 [==============================] - 28s 8ms/step - loss: 0.0206 - msle: 0.0043 - val_loss: 0.0181 - val_msle: 0.0038\n",
      "Epoch 32/100\n",
      "3318/3318 [==============================] - 28s 8ms/step - loss: 0.0205 - msle: 0.0043 - val_loss: 0.0181 - val_msle: 0.0038\n",
      "Epoch 33/100\n",
      "3318/3318 [==============================] - 27s 8ms/step - loss: 0.0205 - msle: 0.0043 - val_loss: 0.0180 - val_msle: 0.0038\n",
      "Epoch 34/100\n",
      "3318/3318 [==============================] - 29s 9ms/step - loss: 0.0204 - msle: 0.0043 - val_loss: 0.0180 - val_msle: 0.0038\n",
      "Epoch 35/100\n",
      "3318/3318 [==============================] - 29s 9ms/step - loss: 0.0204 - msle: 0.0043 - val_loss: 0.0180 - val_msle: 0.0038\n",
      "Epoch 36/100\n",
      "3318/3318 [==============================] - 27s 8ms/step - loss: 0.0203 - msle: 0.0043 - val_loss: 0.0179 - val_msle: 0.0038\n",
      "Epoch 37/100\n",
      "3318/3318 [==============================] - 27s 8ms/step - loss: 0.0203 - msle: 0.0043 - val_loss: 0.0179 - val_msle: 0.0038\n",
      "Epoch 38/100\n",
      "3318/3318 [==============================] - 28s 8ms/step - loss: 0.0203 - msle: 0.0043 - val_loss: 0.0180 - val_msle: 0.0039\n",
      "Epoch 39/100\n",
      "3318/3318 [==============================] - 28s 8ms/step - loss: 0.0202 - msle: 0.0043 - val_loss: 0.0178 - val_msle: 0.0038\n",
      "Epoch 40/100\n",
      "3318/3318 [==============================] - 29s 9ms/step - loss: 0.0202 - msle: 0.0043 - val_loss: 0.0178 - val_msle: 0.0038\n",
      "Epoch 41/100\n",
      "3318/3318 [==============================] - 26s 8ms/step - loss: 0.0202 - msle: 0.0043 - val_loss: 0.0177 - val_msle: 0.0038\n",
      "Epoch 42/100\n",
      "3318/3318 [==============================] - 27s 8ms/step - loss: 0.0201 - msle: 0.0042 - val_loss: 0.0177 - val_msle: 0.0037\n",
      "Epoch 43/100\n",
      "3318/3318 [==============================] - 29s 9ms/step - loss: 0.0201 - msle: 0.0042 - val_loss: 0.0176 - val_msle: 0.0037\n",
      "Epoch 44/100\n",
      "3318/3318 [==============================] - 29s 9ms/step - loss: 0.0201 - msle: 0.0042 - val_loss: 0.0176 - val_msle: 0.0037\n",
      "Epoch 45/100\n",
      "3318/3318 [==============================] - 30s 9ms/step - loss: 0.0200 - msle: 0.0042 - val_loss: 0.0177 - val_msle: 0.0038\n",
      "Epoch 46/100\n",
      "3318/3318 [==============================] - 29s 9ms/step - loss: 0.0200 - msle: 0.0042 - val_loss: 0.0175 - val_msle: 0.0037\n",
      "Epoch 47/100\n",
      "3318/3318 [==============================] - 30s 9ms/step - loss: 0.0200 - msle: 0.0042 - val_loss: 0.0175 - val_msle: 0.0037\n",
      "Epoch 48/100\n",
      "3318/3318 [==============================] - 32s 10ms/step - loss: 0.0200 - msle: 0.0042 - val_loss: 0.0175 - val_msle: 0.0037\n",
      "Epoch 49/100\n",
      "3318/3318 [==============================] - 30s 9ms/step - loss: 0.0199 - msle: 0.0042 - val_loss: 0.0180 - val_msle: 0.0039\n",
      "Epoch 50/100\n",
      "3318/3318 [==============================] - 30s 9ms/step - loss: 0.0199 - msle: 0.0042 - val_loss: 0.0174 - val_msle: 0.0037\n",
      "Epoch 51/100\n",
      "3318/3318 [==============================] - 29s 9ms/step - loss: 0.0199 - msle: 0.0042 - val_loss: 0.0173 - val_msle: 0.0037\n",
      "Epoch 52/100\n",
      "3318/3318 [==============================] - 28s 8ms/step - loss: 0.0198 - msle: 0.0042 - val_loss: 0.0173 - val_msle: 0.0037\n",
      "Epoch 53/100\n",
      "3318/3318 [==============================] - 29s 9ms/step - loss: 0.0198 - msle: 0.0042 - val_loss: 0.0173 - val_msle: 0.0037\n",
      "Epoch 54/100\n",
      "3318/3318 [==============================] - 29s 9ms/step - loss: 0.0198 - msle: 0.0042 - val_loss: 0.0173 - val_msle: 0.0037\n",
      "Epoch 55/100\n",
      "3318/3318 [==============================] - 29s 9ms/step - loss: 0.0198 - msle: 0.0042 - val_loss: 0.0173 - val_msle: 0.0037\n",
      "Epoch 56/100\n",
      "3318/3318 [==============================] - 29s 9ms/step - loss: 0.0197 - msle: 0.0042 - val_loss: 0.0172 - val_msle: 0.0037\n",
      "Epoch 57/100\n",
      "3318/3318 [==============================] - 31s 9ms/step - loss: 0.0197 - msle: 0.0042 - val_loss: 0.0172 - val_msle: 0.0036\n",
      "Epoch 58/100\n",
      "3318/3318 [==============================] - 31s 9ms/step - loss: 0.0197 - msle: 0.0042 - val_loss: 0.0173 - val_msle: 0.0037\n",
      "Epoch 59/100\n",
      "3318/3318 [==============================] - 32s 10ms/step - loss: 0.0197 - msle: 0.0042 - val_loss: 0.0171 - val_msle: 0.0037\n",
      "Epoch 60/100\n",
      "3318/3318 [==============================] - 32s 10ms/step - loss: 0.0197 - msle: 0.0042 - val_loss: 0.0172 - val_msle: 0.0037\n",
      "Epoch 61/100\n",
      "3318/3318 [==============================] - 29s 9ms/step - loss: 0.0197 - msle: 0.0042 - val_loss: 0.0173 - val_msle: 0.0037\n",
      "Epoch 62/100\n",
      "3318/3318 [==============================] - 30s 9ms/step - loss: 0.0196 - msle: 0.0042 - val_loss: 0.0171 - val_msle: 0.0036\n",
      "Epoch 63/100\n",
      "3318/3318 [==============================] - 30s 9ms/step - loss: 0.0196 - msle: 0.0042 - val_loss: 0.0170 - val_msle: 0.0036\n",
      "Epoch 64/100\n",
      "3318/3318 [==============================] - 29s 9ms/step - loss: 0.0196 - msle: 0.0042 - val_loss: 0.0171 - val_msle: 0.0036\n",
      "Epoch 65/100\n",
      "3318/3318 [==============================] - 30s 9ms/step - loss: 0.0196 - msle: 0.0041 - val_loss: 0.0171 - val_msle: 0.0037\n",
      "Epoch 66/100\n",
      "3318/3318 [==============================] - 31s 9ms/step - loss: 0.0196 - msle: 0.0041 - val_loss: 0.0170 - val_msle: 0.0036\n",
      "Epoch 67/100\n",
      "3318/3318 [==============================] - 30s 9ms/step - loss: 0.0195 - msle: 0.0041 - val_loss: 0.0170 - val_msle: 0.0036\n",
      "Epoch 68/100\n",
      "3318/3318 [==============================] - 31s 9ms/step - loss: 0.0195 - msle: 0.0041 - val_loss: 0.0171 - val_msle: 0.0037\n",
      "Epoch 69/100\n",
      "3318/3318 [==============================] - 31s 9ms/step - loss: 0.0195 - msle: 0.0041 - val_loss: 0.0170 - val_msle: 0.0036\n",
      "Epoch 70/100\n",
      "3318/3318 [==============================] - 29s 9ms/step - loss: 0.0195 - msle: 0.0041 - val_loss: 0.0170 - val_msle: 0.0036\n",
      "Epoch 71/100\n",
      "3318/3318 [==============================] - 29s 9ms/step - loss: 0.0195 - msle: 0.0041 - val_loss: 0.0171 - val_msle: 0.0037\n",
      "Epoch 72/100\n",
      "3318/3318 [==============================] - 30s 9ms/step - loss: 0.0195 - msle: 0.0041 - val_loss: 0.0169 - val_msle: 0.0036\n",
      "Epoch 73/100\n",
      "3318/3318 [==============================] - 30s 9ms/step - loss: 0.0195 - msle: 0.0041 - val_loss: 0.0169 - val_msle: 0.0036\n",
      "Epoch 74/100\n",
      "3318/3318 [==============================] - 34s 10ms/step - loss: 0.0194 - msle: 0.0041 - val_loss: 0.0170 - val_msle: 0.0036\n",
      "Epoch 75/100\n",
      "3318/3318 [==============================] - 36s 11ms/step - loss: 0.0194 - msle: 0.0041 - val_loss: 0.0169 - val_msle: 0.0036\n",
      "Epoch 76/100\n",
      "3318/3318 [==============================] - 35s 11ms/step - loss: 0.0194 - msle: 0.0041 - val_loss: 0.0173 - val_msle: 0.0037\n",
      "Epoch 77/100\n",
      "3318/3318 [==============================] - 3330s 1s/step - loss: 0.0194 - msle: 0.0041 - val_loss: 0.0169 - val_msle: 0.0036\n",
      "Epoch 78/100\n",
      "3318/3318 [==============================] - 28s 8ms/step - loss: 0.0194 - msle: 0.0041 - val_loss: 0.0168 - val_msle: 0.0036\n",
      "Epoch 79/100\n",
      "3318/3318 [==============================] - 27s 8ms/step - loss: 0.0194 - msle: 0.0041 - val_loss: 0.0168 - val_msle: 0.0036\n",
      "Epoch 80/100\n",
      "3318/3318 [==============================] - 26s 8ms/step - loss: 0.0194 - msle: 0.0041 - val_loss: 0.0168 - val_msle: 0.0036\n",
      "Epoch 81/100\n",
      "3318/3318 [==============================] - 27s 8ms/step - loss: 0.0194 - msle: 0.0041 - val_loss: 0.0168 - val_msle: 0.0036\n",
      "Epoch 82/100\n",
      "3318/3318 [==============================] - 27s 8ms/step - loss: 0.0193 - msle: 0.0041 - val_loss: 0.0168 - val_msle: 0.0036\n",
      "Epoch 83/100\n",
      "3318/3318 [==============================] - 27s 8ms/step - loss: 0.0193 - msle: 0.0041 - val_loss: 0.0168 - val_msle: 0.0036\n",
      "Epoch 84/100\n",
      "3318/3318 [==============================] - 25s 8ms/step - loss: 0.0193 - msle: 0.0041 - val_loss: 0.0167 - val_msle: 0.0036\n",
      "Epoch 85/100\n",
      "3318/3318 [==============================] - 25s 7ms/step - loss: 0.0193 - msle: 0.0041 - val_loss: 0.0168 - val_msle: 0.0036\n",
      "Epoch 86/100\n",
      "3318/3318 [==============================] - 27s 8ms/step - loss: 0.0193 - msle: 0.0041 - val_loss: 0.0167 - val_msle: 0.0036\n",
      "Epoch 87/100\n",
      "3318/3318 [==============================] - 27s 8ms/step - loss: 0.0193 - msle: 0.0041 - val_loss: 0.0168 - val_msle: 0.0036\n",
      "Epoch 88/100\n",
      "3318/3318 [==============================] - 26s 8ms/step - loss: 0.0193 - msle: 0.0041 - val_loss: 0.0167 - val_msle: 0.0036\n",
      "Epoch 89/100\n",
      "3318/3318 [==============================] - 1043s 314ms/step - loss: 0.0193 - msle: 0.0041 - val_loss: 0.0167 - val_msle: 0.0036\n",
      "Epoch 90/100\n",
      "3318/3318 [==============================] - 31s 9ms/step - loss: 0.0193 - msle: 0.0041 - val_loss: 0.0167 - val_msle: 0.0036\n",
      "Epoch 91/100\n",
      "3318/3318 [==============================] - 32s 10ms/step - loss: 0.0193 - msle: 0.0041 - val_loss: 0.0167 - val_msle: 0.0036\n",
      "Epoch 92/100\n",
      "3318/3318 [==============================] - 32s 10ms/step - loss: 0.0192 - msle: 0.0041 - val_loss: 0.0166 - val_msle: 0.0036\n",
      "Epoch 93/100\n",
      "3318/3318 [==============================] - 33s 10ms/step - loss: 0.0192 - msle: 0.0041 - val_loss: 0.0167 - val_msle: 0.0036\n",
      "Epoch 94/100\n",
      "3318/3318 [==============================] - 33s 10ms/step - loss: 0.0192 - msle: 0.0041 - val_loss: 0.0167 - val_msle: 0.0036\n",
      "Epoch 94: early stopping\n",
      ".........train_model is done.........\n"
     ]
    }
   ],
   "source": [
    "pipeline = DiagnosisTrainingModelPipeline(configs='configs.json')\n",
    "history = pipeline()"
   ]
  },
  {
   "cell_type": "code",
   "execution_count": 3,
   "metadata": {},
   "outputs": [
    {
     "data": {
      "image/png": "[encoded data removed]",
      "text/plain": [
       "<Figure size 640x480 with 1 Axes>"
      ]
     },
     "metadata": {},
     "output_type": "display_data"
    }
   ],
   "source": [
    "plot_learning_curve(\n",
    "    dict_val = history.history,\n",
    "    values = ['loss', 'val_loss'],\n",
    "    x_label = 'epoch',\n",
    "    y_label = 'loss',\n",
    "    legend_list = ['train', 'test'],\n",
    "    title = 'Model Loss',\n",
    "    legend_loc = 'upper right'\n",
    ")"
   ]
  },
  {
   "cell_type": "markdown",
   "metadata": {},
   "source": [
    "# Testing the model for the first 10 simulation cases"
   ]
  },
  {
   "cell_type": "code",
   "execution_count": 3,
   "metadata": {},
   "outputs": [
    {
     "name": "stderr",
     "output_type": "stream",
     "text": [
      "Reading .pkl files...:   0%|          | 0/1 [00:00<?, ?file/s]"
     ]
    },
    {
     "name": "stdout",
     "output_type": "stream",
     "text": [
      "..\\data\\data\\Fuga\\CF_EE_D0_R0.pkl\n"
     ]
    },
    {
     "name": "stderr",
     "output_type": "stream",
     "text": [
      "Reading .pkl files...: 100%|██████████| 1/1 [00:04<00:00,  4.45s/file]\n",
      "Reading .pkl files...:   0%|          | 0/1 [00:00<?, ?file/s]"
     ]
    },
    {
     "name": "stdout",
     "output_type": "stream",
     "text": [
      "..\\data\\data\\Fuga\\CF_ET_D0_R0.pkl\n"
     ]
    },
    {
     "name": "stderr",
     "output_type": "stream",
     "text": [
      "Reading .pkl files...: 100%|██████████| 1/1 [00:05<00:00,  5.94s/file]\n",
      "  0%|          | 0/10 [00:00<?, ?it/s]"
     ]
    },
    {
     "name": "stdout",
     "output_type": "stream",
     "text": [
      "1/1 [==============================] - 1s 692ms/step\n",
      "1/1 [==============================] - 0s 22ms/step\n",
      "1/1 [==============================] - 0s 29ms/step\n",
      "1/1 [==============================] - 0s 19ms/step\n"
     ]
    },
    {
     "name": "stderr",
     "output_type": "stream",
     "text": [
      " 10%|█         | 1/10 [00:01<00:11,  1.29s/it]"
     ]
    },
    {
     "name": "stdout",
     "output_type": "stream",
     "text": [
      "1/1 [==============================] - 0s 22ms/step\n",
      "1/1 [==============================] - 0s 21ms/step\n",
      "1/1 [==============================] - 0s 20ms/step\n",
      "1/1 [==============================] - 0s 19ms/step\n"
     ]
    },
    {
     "name": "stderr",
     "output_type": "stream",
     "text": [
      " 20%|██        | 2/10 [00:01<00:08,  1.08s/it]"
     ]
    },
    {
     "name": "stdout",
     "output_type": "stream",
     "text": [
      "1/1 [==============================] - 0s 19ms/step\n",
      "1/1 [==============================] - 0s 20ms/step\n",
      "1/1 [==============================] - 0s 18ms/step\n",
      "1/1 [==============================] - 0s 17ms/step\n"
     ]
    },
    {
     "name": "stderr",
     "output_type": "stream",
     "text": [
      " 30%|███       | 3/10 [00:02<00:06,  1.08it/s]"
     ]
    },
    {
     "name": "stdout",
     "output_type": "stream",
     "text": [
      "1/1 [==============================] - 0s 18ms/step\n",
      "1/1 [==============================] - 0s 19ms/step\n",
      "1/1 [==============================] - 0s 20ms/step\n",
      "1/1 [==============================] - 0s 19ms/step\n"
     ]
    },
    {
     "name": "stderr",
     "output_type": "stream",
     "text": [
      " 40%|████      | 4/10 [00:02<00:04,  1.23it/s]"
     ]
    },
    {
     "name": "stdout",
     "output_type": "stream",
     "text": [
      "1/1 [==============================] - 0s 20ms/step\n",
      "1/1 [==============================] - 0s 20ms/step\n",
      "1/1 [==============================] - 0s 19ms/step\n",
      "1/1 [==============================] - 0s 21ms/step\n"
     ]
    },
    {
     "name": "stderr",
     "output_type": "stream",
     "text": [
      " 50%|█████     | 5/10 [00:03<00:03,  1.36it/s]"
     ]
    },
    {
     "name": "stdout",
     "output_type": "stream",
     "text": [
      "1/1 [==============================] - 0s 18ms/step\n",
      "1/1 [==============================] - 0s 24ms/step\n",
      "1/1 [==============================] - 0s 29ms/step\n",
      "1/1 [==============================] - 0s 19ms/step\n"
     ]
    },
    {
     "name": "stderr",
     "output_type": "stream",
     "text": [
      " 60%|██████    | 6/10 [00:04<00:02,  1.38it/s]"
     ]
    },
    {
     "name": "stdout",
     "output_type": "stream",
     "text": [
      "1/1 [==============================] - 0s 21ms/step\n",
      "1/1 [==============================] - 0s 25ms/step\n",
      "1/1 [==============================] - 0s 27ms/step\n",
      "1/1 [==============================] - 0s 23ms/step\n"
     ]
    },
    {
     "name": "stderr",
     "output_type": "stream",
     "text": [
      " 70%|███████   | 7/10 [00:04<00:02,  1.43it/s]"
     ]
    },
    {
     "name": "stdout",
     "output_type": "stream",
     "text": [
      "1/1 [==============================] - 0s 22ms/step\n",
      "1/1 [==============================] - 0s 20ms/step\n",
      "1/1 [==============================] - 0s 20ms/step\n",
      "1/1 [==============================] - 0s 20ms/step\n"
     ]
    },
    {
     "name": "stderr",
     "output_type": "stream",
     "text": [
      " 80%|████████  | 8/10 [00:05<00:01,  1.47it/s]"
     ]
    },
    {
     "name": "stdout",
     "output_type": "stream",
     "text": [
      "1/1 [==============================] - 0s 18ms/step\n",
      "1/1 [==============================] - 0s 19ms/step\n",
      "1/1 [==============================] - 0s 20ms/step\n",
      "1/1 [==============================] - 0s 20ms/step\n"
     ]
    },
    {
     "name": "stderr",
     "output_type": "stream",
     "text": [
      " 90%|█████████ | 9/10 [00:06<00:00,  1.53it/s]"
     ]
    },
    {
     "name": "stdout",
     "output_type": "stream",
     "text": [
      "1/1 [==============================] - 0s 18ms/step\n",
      "1/1 [==============================] - 0s 16ms/step\n",
      "1/1 [==============================] - 0s 24ms/step\n",
      "1/1 [==============================] - 0s 26ms/step\n"
     ]
    },
    {
     "name": "stderr",
     "output_type": "stream",
     "text": [
      "100%|██████████| 10/10 [00:06<00:00,  1.48it/s]\n"
     ]
    },
    {
     "data": {
      "image/png": "[encoded data removed]",
      "text/plain": [
       "<Figure size 640x480 with 1 Axes>"
      ]
     },
     "metadata": {},
     "output_type": "display_data"
    }
   ],
   "source": [
    "test_model = DiagnosisTestingRegressionModel(configs='configs.json')\n",
    "test_model()"
   ]
  }
 ],
 "metadata": {
  "kernelspec": {
   "display_name": "env",
   "language": "python",
   "name": "python3"
  },
  "language_info": {
   "codemirror_mode": {
    "name": "ipython",
    "version": 3
   },
   "file_extension": ".py",
   "mimetype": "text/x-python",
   "name": "python",
   "nbconvert_exporter": "python",
   "pygments_lexer": "ipython3",
   "version": "3.10.11"
  }
 },
 "nbformat": 4,
 "nbformat_minor": 2
}
