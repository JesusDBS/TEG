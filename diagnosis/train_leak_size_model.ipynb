{
 "cells": [
  {
   "cell_type": "code",
   "execution_count": 1,
   "metadata": {},
   "outputs": [
    {
     "name": "stderr",
     "output_type": "stream",
     "text": [
      "c:\\Users\\HP\\Desktop\\projects\\TEG\\env\\lib\\site-packages\\statsmodels\\compat\\pandas.py:65: FutureWarning: pandas.Int64Index is deprecated and will be removed from pandas in a future version. Use pandas.Index with the appropriate dtype instead.\n",
      "  from pandas import Int64Index as NumericIndex\n"
     ]
    }
   ],
   "source": [
    "from lstm_diagnosis import DiagnosisTrainingModelPipeline, DiagnosisTestingRegressionModel, plot_learning_curve"
   ]
  },
  {
   "cell_type": "markdown",
   "metadata": {},
   "source": [
    "# Training the model"
   ]
  },
  {
   "cell_type": "code",
   "execution_count": 2,
   "metadata": {},
   "outputs": [
    {
     "name": "stdout",
     "output_type": "stream",
     "text": [
      ".........load_dataset is done.........\n",
      ".........scale_input_data is done.........\n",
      ".........scale_output_data is done.........\n",
      ".........lstm_data_transform is done.........\n",
      ".........split_data is done.........\n",
      "Epoch 1/100\n",
      "3318/3318 [==============================] - 34s 9ms/step - loss: 0.1432 - msle: 0.0253 - val_loss: 0.0744 - val_msle: 0.0106\n",
      "Epoch 2/100\n",
      "3318/3318 [==============================] - 31s 9ms/step - loss: 0.0595 - msle: 0.0081 - val_loss: 0.0500 - val_msle: 0.0068\n",
      "Epoch 3/100\n",
      "3318/3318 [==============================] - 34s 10ms/step - loss: 0.0465 - msle: 0.0060 - val_loss: 0.0426 - val_msle: 0.0054\n",
      "Epoch 4/100\n",
      "3318/3318 [==============================] - 35s 10ms/step - loss: 0.0412 - msle: 0.0051 - val_loss: 0.0395 - val_msle: 0.0050\n",
      "Epoch 5/100\n",
      "3318/3318 [==============================] - 36s 11ms/step - loss: 0.0384 - msle: 0.0047 - val_loss: 0.0371 - val_msle: 0.0047\n",
      "Epoch 6/100\n",
      "3318/3318 [==============================] - 32s 10ms/step - loss: 0.0366 - msle: 0.0045 - val_loss: 0.0356 - val_msle: 0.0045\n",
      "Epoch 7/100\n",
      "3318/3318 [==============================] - 32s 10ms/step - loss: 0.0354 - msle: 0.0043 - val_loss: 0.0347 - val_msle: 0.0044\n",
      "Epoch 8/100\n",
      "3318/3318 [==============================] - 32s 10ms/step - loss: 0.0344 - msle: 0.0042 - val_loss: 0.0336 - val_msle: 0.0043\n",
      "Epoch 9/100\n",
      "3318/3318 [==============================] - 31s 9ms/step - loss: 0.0337 - msle: 0.0042 - val_loss: 0.0330 - val_msle: 0.0043\n",
      "Epoch 10/100\n",
      "3318/3318 [==============================] - 33s 10ms/step - loss: 0.0331 - msle: 0.0041 - val_loss: 0.0323 - val_msle: 0.0042\n",
      "Epoch 11/100\n",
      "3318/3318 [==============================] - 36s 11ms/step - loss: 0.0326 - msle: 0.0041 - val_loss: 0.0319 - val_msle: 0.0042\n",
      "Epoch 12/100\n",
      "3318/3318 [==============================] - 37s 11ms/step - loss: 0.0321 - msle: 0.0040 - val_loss: 0.0318 - val_msle: 0.0041\n",
      "Epoch 13/100\n",
      "3318/3318 [==============================] - 35s 10ms/step - loss: 0.0317 - msle: 0.0040 - val_loss: 0.0316 - val_msle: 0.0041\n",
      "Epoch 14/100\n",
      "3318/3318 [==============================] - 32s 10ms/step - loss: 0.0314 - msle: 0.0040 - val_loss: 0.0309 - val_msle: 0.0041\n",
      "Epoch 15/100\n",
      "3318/3318 [==============================] - 29s 9ms/step - loss: 0.0311 - msle: 0.0040 - val_loss: 0.0310 - val_msle: 0.0041\n",
      "Epoch 16/100\n",
      "3318/3318 [==============================] - 28s 8ms/step - loss: 0.0309 - msle: 0.0039 - val_loss: 0.0305 - val_msle: 0.0041\n",
      "Epoch 17/100\n",
      "3318/3318 [==============================] - 29s 9ms/step - loss: 0.0306 - msle: 0.0039 - val_loss: 0.0305 - val_msle: 0.0041\n",
      "Epoch 18/100\n",
      "3318/3318 [==============================] - 28s 9ms/step - loss: 0.0304 - msle: 0.0039 - val_loss: 0.0302 - val_msle: 0.0041\n",
      "Epoch 19/100\n",
      "3318/3318 [==============================] - 28s 9ms/step - loss: 0.0303 - msle: 0.0039 - val_loss: 0.0304 - val_msle: 0.0041\n",
      "Epoch 20/100\n",
      "3318/3318 [==============================] - 28s 8ms/step - loss: 0.0301 - msle: 0.0039 - val_loss: 0.0299 - val_msle: 0.0040\n",
      "Epoch 21/100\n",
      "3318/3318 [==============================] - 29s 9ms/step - loss: 0.0300 - msle: 0.0039 - val_loss: 0.0297 - val_msle: 0.0040\n",
      "Epoch 22/100\n",
      "3318/3318 [==============================] - 28s 9ms/step - loss: 0.0298 - msle: 0.0039 - val_loss: 0.0296 - val_msle: 0.0040\n",
      "Epoch 23/100\n",
      "3318/3318 [==============================] - 28s 9ms/step - loss: 0.0297 - msle: 0.0039 - val_loss: 0.0295 - val_msle: 0.0040\n",
      "Epoch 24/100\n",
      "3318/3318 [==============================] - 28s 9ms/step - loss: 0.0296 - msle: 0.0038 - val_loss: 0.0294 - val_msle: 0.0040\n",
      "Epoch 25/100\n",
      "3318/3318 [==============================] - 29s 9ms/step - loss: 0.0295 - msle: 0.0038 - val_loss: 0.0304 - val_msle: 0.0040\n",
      "Epoch 26/100\n",
      "3318/3318 [==============================] - 28s 8ms/step - loss: 0.0294 - msle: 0.0038 - val_loss: 0.0299 - val_msle: 0.0040\n",
      "Epoch 27/100\n",
      "3318/3318 [==============================] - 29s 9ms/step - loss: 0.0293 - msle: 0.0038 - val_loss: 0.0290 - val_msle: 0.0040\n",
      "Epoch 28/100\n",
      "3318/3318 [==============================] - 157s 47ms/step - loss: 0.0292 - msle: 0.0038 - val_loss: 0.0290 - val_msle: 0.0040\n",
      "Epoch 29/100\n",
      "3318/3318 [==============================] - 25s 7ms/step - loss: 0.0291 - msle: 0.0038 - val_loss: 0.0294 - val_msle: 0.0040\n",
      "Epoch 30/100\n",
      "3318/3318 [==============================] - 28s 8ms/step - loss: 0.0290 - msle: 0.0038 - val_loss: 0.0288 - val_msle: 0.0040\n",
      "Epoch 31/100\n",
      "3318/3318 [==============================] - 27s 8ms/step - loss: 0.0289 - msle: 0.0038 - val_loss: 0.0289 - val_msle: 0.0039\n",
      "Epoch 32/100\n",
      "3318/3318 [==============================] - 27s 8ms/step - loss: 0.0289 - msle: 0.0038 - val_loss: 0.0287 - val_msle: 0.0039\n",
      "Epoch 33/100\n",
      "3318/3318 [==============================] - 30s 9ms/step - loss: 0.0288 - msle: 0.0038 - val_loss: 0.0287 - val_msle: 0.0039\n",
      "Epoch 34/100\n",
      "3318/3318 [==============================] - 28s 8ms/step - loss: 0.0287 - msle: 0.0038 - val_loss: 0.0286 - val_msle: 0.0039\n",
      "Epoch 35/100\n",
      "3318/3318 [==============================] - 28s 8ms/step - loss: 0.0286 - msle: 0.0038 - val_loss: 0.0287 - val_msle: 0.0039\n",
      "Epoch 36/100\n",
      "3318/3318 [==============================] - 28s 8ms/step - loss: 0.0286 - msle: 0.0038 - val_loss: 0.0287 - val_msle: 0.0039\n",
      "Epoch 37/100\n",
      "3318/3318 [==============================] - 28s 8ms/step - loss: 0.0285 - msle: 0.0038 - val_loss: 0.0284 - val_msle: 0.0039\n",
      "Epoch 38/100\n",
      "3318/3318 [==============================] - 28s 9ms/step - loss: 0.0285 - msle: 0.0038 - val_loss: 0.0287 - val_msle: 0.0039\n",
      "Epoch 39/100\n",
      "3318/3318 [==============================] - 29s 9ms/step - loss: 0.0284 - msle: 0.0038 - val_loss: 0.0284 - val_msle: 0.0039\n",
      "Epoch 40/100\n",
      "3318/3318 [==============================] - 29s 9ms/step - loss: 0.0284 - msle: 0.0038 - val_loss: 0.0284 - val_msle: 0.0039\n",
      "Epoch 41/100\n",
      "3318/3318 [==============================] - 479s 144ms/step - loss: 0.0283 - msle: 0.0038 - val_loss: 0.0283 - val_msle: 0.0039\n",
      "Epoch 42/100\n",
      "3318/3318 [==============================] - 23s 7ms/step - loss: 0.0282 - msle: 0.0038 - val_loss: 0.0283 - val_msle: 0.0039\n",
      "Epoch 43/100\n",
      "3318/3318 [==============================] - 25s 7ms/step - loss: 0.0282 - msle: 0.0038 - val_loss: 0.0282 - val_msle: 0.0039\n",
      "Epoch 44/100\n",
      "3318/3318 [==============================] - 24s 7ms/step - loss: 0.0282 - msle: 0.0038 - val_loss: 0.0283 - val_msle: 0.0039\n",
      "Epoch 45/100\n",
      "3318/3318 [==============================] - 24s 7ms/step - loss: 0.0281 - msle: 0.0038 - val_loss: 0.0284 - val_msle: 0.0039\n",
      "Epoch 46/100\n",
      "3318/3318 [==============================] - 24s 7ms/step - loss: 0.0281 - msle: 0.0037 - val_loss: 0.0282 - val_msle: 0.0039\n",
      "Epoch 47/100\n",
      "3318/3318 [==============================] - 24s 7ms/step - loss: 0.0280 - msle: 0.0037 - val_loss: 0.0281 - val_msle: 0.0039\n",
      "Epoch 48/100\n",
      "3318/3318 [==============================] - 24s 7ms/step - loss: 0.0280 - msle: 0.0037 - val_loss: 0.0281 - val_msle: 0.0039\n",
      "Epoch 49/100\n",
      "3318/3318 [==============================] - 25s 7ms/step - loss: 0.0279 - msle: 0.0037 - val_loss: 0.0279 - val_msle: 0.0039\n",
      "Epoch 50/100\n",
      "3318/3318 [==============================] - 25s 7ms/step - loss: 0.0279 - msle: 0.0037 - val_loss: 0.0279 - val_msle: 0.0039\n",
      "Epoch 51/100\n",
      "3318/3318 [==============================] - 25s 7ms/step - loss: 0.0278 - msle: 0.0037 - val_loss: 0.0279 - val_msle: 0.0039\n",
      "Epoch 52/100\n",
      "3318/3318 [==============================] - 25s 7ms/step - loss: 0.0278 - msle: 0.0037 - val_loss: 0.0278 - val_msle: 0.0039\n",
      "Epoch 53/100\n",
      "3318/3318 [==============================] - 25s 7ms/step - loss: 0.0278 - msle: 0.0037 - val_loss: 0.0277 - val_msle: 0.0039\n",
      "Epoch 54/100\n",
      "3318/3318 [==============================] - 25s 8ms/step - loss: 0.0277 - msle: 0.0037 - val_loss: 0.0280 - val_msle: 0.0039\n",
      "Epoch 55/100\n",
      "3318/3318 [==============================] - 27s 8ms/step - loss: 0.0277 - msle: 0.0037 - val_loss: 0.0278 - val_msle: 0.0039\n",
      "Epoch 56/100\n",
      "3318/3318 [==============================] - 26s 8ms/step - loss: 0.0277 - msle: 0.0037 - val_loss: 0.0279 - val_msle: 0.0039\n",
      "Epoch 57/100\n",
      "3318/3318 [==============================] - 27s 8ms/step - loss: 0.0277 - msle: 0.0037 - val_loss: 0.0276 - val_msle: 0.0039\n",
      "Epoch 58/100\n",
      "3318/3318 [==============================] - 26s 8ms/step - loss: 0.0276 - msle: 0.0037 - val_loss: 0.0278 - val_msle: 0.0039\n",
      "Epoch 59/100\n",
      "3318/3318 [==============================] - 27s 8ms/step - loss: 0.0276 - msle: 0.0037 - val_loss: 0.0277 - val_msle: 0.0039\n",
      "Epoch 60/100\n",
      "3318/3318 [==============================] - 27s 8ms/step - loss: 0.0275 - msle: 0.0037 - val_loss: 0.0275 - val_msle: 0.0039\n",
      "Epoch 61/100\n",
      "3318/3318 [==============================] - 27s 8ms/step - loss: 0.0275 - msle: 0.0037 - val_loss: 0.0276 - val_msle: 0.0039\n",
      "Epoch 62/100\n",
      "3318/3318 [==============================] - 27s 8ms/step - loss: 0.0275 - msle: 0.0037 - val_loss: 0.0274 - val_msle: 0.0039\n",
      "Epoch 63/100\n",
      "3318/3318 [==============================] - 27s 8ms/step - loss: 0.0274 - msle: 0.0037 - val_loss: 0.0278 - val_msle: 0.0039\n",
      "Epoch 64/100\n",
      "3318/3318 [==============================] - 27s 8ms/step - loss: 0.0274 - msle: 0.0037 - val_loss: 0.0276 - val_msle: 0.0039\n",
      "Epoch 65/100\n",
      "3318/3318 [==============================] - 27s 8ms/step - loss: 0.0274 - msle: 0.0037 - val_loss: 0.0273 - val_msle: 0.0038\n",
      "Epoch 66/100\n",
      "3318/3318 [==============================] - 27s 8ms/step - loss: 0.0273 - msle: 0.0037 - val_loss: 0.0273 - val_msle: 0.0039\n",
      "Epoch 67/100\n",
      "3318/3318 [==============================] - 28s 8ms/step - loss: 0.0273 - msle: 0.0037 - val_loss: 0.0273 - val_msle: 0.0038\n",
      "Epoch 68/100\n",
      "3318/3318 [==============================] - 28s 8ms/step - loss: 0.0273 - msle: 0.0037 - val_loss: 0.0274 - val_msle: 0.0038\n",
      "Epoch 69/100\n",
      "3318/3318 [==============================] - 28s 8ms/step - loss: 0.0273 - msle: 0.0037 - val_loss: 0.0273 - val_msle: 0.0038\n",
      "Epoch 70/100\n",
      "3318/3318 [==============================] - 36s 11ms/step - loss: 0.0272 - msle: 0.0037 - val_loss: 0.0273 - val_msle: 0.0038\n",
      "Epoch 71/100\n",
      "3318/3318 [==============================] - 28s 8ms/step - loss: 0.0272 - msle: 0.0037 - val_loss: 0.0272 - val_msle: 0.0039\n",
      "Epoch 72/100\n",
      "3318/3318 [==============================] - 28s 9ms/step - loss: 0.0272 - msle: 0.0037 - val_loss: 0.0272 - val_msle: 0.0039\n",
      "Epoch 73/100\n",
      "3318/3318 [==============================] - 28s 9ms/step - loss: 0.0271 - msle: 0.0037 - val_loss: 0.0271 - val_msle: 0.0038\n",
      "Epoch 74/100\n",
      "3318/3318 [==============================] - 28s 8ms/step - loss: 0.0271 - msle: 0.0037 - val_loss: 0.0273 - val_msle: 0.0038\n",
      "Epoch 75/100\n",
      "3318/3318 [==============================] - 28s 9ms/step - loss: 0.0271 - msle: 0.0037 - val_loss: 0.0282 - val_msle: 0.0039\n",
      "Epoch 76/100\n",
      "3318/3318 [==============================] - 29s 9ms/step - loss: 0.0271 - msle: 0.0037 - val_loss: 0.0270 - val_msle: 0.0038\n",
      "Epoch 77/100\n",
      "3318/3318 [==============================] - 29s 9ms/step - loss: 0.0271 - msle: 0.0037 - val_loss: 0.0272 - val_msle: 0.0038\n",
      "Epoch 78/100\n",
      "3318/3318 [==============================] - 29s 9ms/step - loss: 0.0270 - msle: 0.0037 - val_loss: 0.0274 - val_msle: 0.0038\n",
      "Epoch 79/100\n",
      "3318/3318 [==============================] - 29s 9ms/step - loss: 0.0270 - msle: 0.0037 - val_loss: 0.0271 - val_msle: 0.0038\n",
      "Epoch 80/100\n",
      "3318/3318 [==============================] - 28s 9ms/step - loss: 0.0270 - msle: 0.0037 - val_loss: 0.0271 - val_msle: 0.0038\n",
      "Epoch 81/100\n",
      "3318/3318 [==============================] - 33s 10ms/step - loss: 0.0270 - msle: 0.0037 - val_loss: 0.0273 - val_msle: 0.0038\n",
      "Epoch 82/100\n",
      "3318/3318 [==============================] - 29s 9ms/step - loss: 0.0269 - msle: 0.0037 - val_loss: 0.0279 - val_msle: 0.0040\n",
      "Epoch 83/100\n",
      "3318/3318 [==============================] - 29s 9ms/step - loss: 0.0269 - msle: 0.0037 - val_loss: 0.0268 - val_msle: 0.0038\n",
      "Epoch 84/100\n",
      "3318/3318 [==============================] - 29s 9ms/step - loss: 0.0269 - msle: 0.0037 - val_loss: 0.0269 - val_msle: 0.0038\n",
      "Epoch 85/100\n",
      "3318/3318 [==============================] - 29s 9ms/step - loss: 0.0269 - msle: 0.0037 - val_loss: 0.0270 - val_msle: 0.0038\n",
      "Epoch 86/100\n",
      "3318/3318 [==============================] - 29s 9ms/step - loss: 0.0269 - msle: 0.0037 - val_loss: 0.0268 - val_msle: 0.0038\n",
      "Epoch 87/100\n",
      "3318/3318 [==============================] - 29s 9ms/step - loss: 0.0268 - msle: 0.0037 - val_loss: 0.0269 - val_msle: 0.0039\n",
      "Epoch 88/100\n",
      "3318/3318 [==============================] - 29s 9ms/step - loss: 0.0268 - msle: 0.0037 - val_loss: 0.0273 - val_msle: 0.0038\n",
      "Epoch 89/100\n",
      "3318/3318 [==============================] - 32s 10ms/step - loss: 0.0268 - msle: 0.0037 - val_loss: 0.0269 - val_msle: 0.0038\n",
      "Epoch 90/100\n",
      "3318/3318 [==============================] - 29s 9ms/step - loss: 0.0268 - msle: 0.0037 - val_loss: 0.0273 - val_msle: 0.0038\n",
      "Epoch 91/100\n",
      "3318/3318 [==============================] - 29s 9ms/step - loss: 0.0267 - msle: 0.0037 - val_loss: 0.0268 - val_msle: 0.0038\n",
      "Epoch 92/100\n",
      "3318/3318 [==============================] - 29s 9ms/step - loss: 0.0267 - msle: 0.0037 - val_loss: 0.0274 - val_msle: 0.0039\n",
      "Epoch 93/100\n",
      "3318/3318 [==============================] - 29s 9ms/step - loss: 0.0267 - msle: 0.0037 - val_loss: 0.0269 - val_msle: 0.0038\n",
      "Epoch 93: early stopping\n",
      ".........train_model is done.........\n"
     ]
    }
   ],
   "source": [
    "pipeline = DiagnosisTrainingModelPipeline(configs='configs.json')\n",
    "history = pipeline()"
   ]
  },
  {
   "cell_type": "code",
   "execution_count": 3,
   "metadata": {},
   "outputs": [
    {
     "data": {
      "image/png": "[encoded data removed]",
      "text/plain": [
       "<Figure size 640x480 with 1 Axes>"
      ]
     },
     "metadata": {},
     "output_type": "display_data"
    }
   ],
   "source": [
    "plot_learning_curve(\n",
    "    dict_val = history.history,\n",
    "    values = ['loss', 'val_loss'],\n",
    "    x_label = 'epoch',\n",
    "    y_label = 'loss',\n",
    "    legend_list = ['train', 'test'],\n",
    "    title = 'Model Loss',\n",
    "    legend_loc = 'upper right'\n",
    ")"
   ]
  },
  {
   "cell_type": "markdown",
   "metadata": {},
   "source": [
    "# Testing the model for the first 10 simulation cases"
   ]
  },
  {
   "cell_type": "code",
   "execution_count": 7,
   "metadata": {},
   "outputs": [
    {
     "name": "stderr",
     "output_type": "stream",
     "text": [
      "Reading .pkl files...:   0%|          | 0/1 [00:00<?, ?file/s]"
     ]
    },
    {
     "name": "stdout",
     "output_type": "stream",
     "text": [
      "..\\data\\data\\Fuga\\CF_EE_D0_R0.pkl\n"
     ]
    },
    {
     "name": "stderr",
     "output_type": "stream",
     "text": [
      "Reading .pkl files...: 100%|██████████| 1/1 [00:06<00:00,  6.48s/file]\n",
      "Reading .pkl files...:   0%|          | 0/1 [00:00<?, ?file/s]"
     ]
    },
    {
     "name": "stdout",
     "output_type": "stream",
     "text": [
      "..\\data\\data\\Fuga\\CF_ET_D0_R0.pkl\n"
     ]
    },
    {
     "name": "stderr",
     "output_type": "stream",
     "text": [
      "Reading .pkl files...: 100%|██████████| 1/1 [00:06<00:00,  6.86s/file]\n",
      "  0%|          | 0/10 [00:00<?, ?it/s]"
     ]
    },
    {
     "name": "stdout",
     "output_type": "stream",
     "text": [
      "1/1 [==============================] - 1s 581ms/step\n",
      "1/1 [==============================] - 0s 19ms/step\n",
      "1/1 [==============================] - 0s 26ms/step\n",
      "1/1 [==============================] - 0s 18ms/step\n"
     ]
    },
    {
     "name": "stderr",
     "output_type": "stream",
     "text": [
      " 10%|█         | 1/10 [00:01<00:10,  1.21s/it]"
     ]
    },
    {
     "name": "stdout",
     "output_type": "stream",
     "text": [
      "1/1 [==============================] - 0s 21ms/step\n",
      "1/1 [==============================] - 0s 18ms/step\n",
      "1/1 [==============================] - 0s 23ms/step\n",
      "1/1 [==============================] - 0s 37ms/step\n"
     ]
    },
    {
     "name": "stderr",
     "output_type": "stream",
     "text": [
      " 20%|██        | 2/10 [00:01<00:08,  1.02s/it]"
     ]
    },
    {
     "name": "stdout",
     "output_type": "stream",
     "text": [
      "1/1 [==============================] - 0s 22ms/step\n",
      "1/1 [==============================] - 0s 17ms/step\n",
      "1/1 [==============================] - 0s 25ms/step\n",
      "1/1 [==============================] - 0s 24ms/step\n"
     ]
    },
    {
     "name": "stderr",
     "output_type": "stream",
     "text": [
      " 30%|███       | 3/10 [00:02<00:06,  1.13it/s]"
     ]
    },
    {
     "name": "stdout",
     "output_type": "stream",
     "text": [
      "1/1 [==============================] - 0s 24ms/step\n",
      "1/1 [==============================] - 0s 25ms/step\n",
      "1/1 [==============================] - 0s 13ms/step\n",
      "1/1 [==============================] - 0s 29ms/step\n"
     ]
    },
    {
     "name": "stderr",
     "output_type": "stream",
     "text": [
      " 40%|████      | 4/10 [00:02<00:04,  1.27it/s]"
     ]
    },
    {
     "name": "stdout",
     "output_type": "stream",
     "text": [
      "1/1 [==============================] - 0s 28ms/step\n",
      "1/1 [==============================] - 0s 28ms/step\n",
      "1/1 [==============================] - 0s 25ms/step\n",
      "1/1 [==============================] - 0s 27ms/step\n"
     ]
    },
    {
     "name": "stderr",
     "output_type": "stream",
     "text": [
      " 50%|█████     | 5/10 [00:03<00:03,  1.39it/s]"
     ]
    },
    {
     "name": "stdout",
     "output_type": "stream",
     "text": [
      "1/1 [==============================] - 0s 16ms/step\n",
      "1/1 [==============================] - 0s 29ms/step\n",
      "1/1 [==============================] - 0s 18ms/step\n",
      "1/1 [==============================] - 0s 18ms/step\n"
     ]
    },
    {
     "name": "stderr",
     "output_type": "stream",
     "text": [
      " 60%|██████    | 6/10 [00:03<00:02,  1.51it/s]"
     ]
    },
    {
     "name": "stdout",
     "output_type": "stream",
     "text": [
      "1/1 [==============================] - 0s 25ms/step\n",
      "1/1 [==============================] - 0s 21ms/step\n",
      "1/1 [==============================] - 0s 35ms/step\n",
      "1/1 [==============================] - 0s 18ms/step\n"
     ]
    },
    {
     "name": "stderr",
     "output_type": "stream",
     "text": [
      " 70%|███████   | 7/10 [00:04<00:01,  1.60it/s]"
     ]
    },
    {
     "name": "stdout",
     "output_type": "stream",
     "text": [
      "1/1 [==============================] - 0s 27ms/step\n",
      "1/1 [==============================] - 0s 25ms/step\n",
      "1/1 [==============================] - 0s 19ms/step\n",
      "1/1 [==============================] - 0s 30ms/step\n"
     ]
    },
    {
     "name": "stderr",
     "output_type": "stream",
     "text": [
      " 80%|████████  | 8/10 [00:05<00:01,  1.66it/s]"
     ]
    },
    {
     "name": "stdout",
     "output_type": "stream",
     "text": [
      "1/1 [==============================] - 0s 21ms/step\n",
      "1/1 [==============================] - 0s 32ms/step\n",
      "1/1 [==============================] - 0s 33ms/step\n",
      "1/1 [==============================] - 0s 28ms/step\n"
     ]
    },
    {
     "name": "stderr",
     "output_type": "stream",
     "text": [
      " 90%|█████████ | 9/10 [00:05<00:00,  1.71it/s]"
     ]
    },
    {
     "name": "stdout",
     "output_type": "stream",
     "text": [
      "1/1 [==============================] - 0s 26ms/step\n",
      "1/1 [==============================] - 0s 26ms/step\n",
      "1/1 [==============================] - 0s 20ms/step\n",
      "1/1 [==============================] - 0s 18ms/step\n"
     ]
    },
    {
     "name": "stderr",
     "output_type": "stream",
     "text": [
      "100%|██████████| 10/10 [00:06<00:00,  1.62it/s]\n"
     ]
    },
    {
     "data": {
      "image/png": "[encoded data removed]",
      "text/plain": [
       "<Figure size 640x480 with 1 Axes>"
      ]
     },
     "metadata": {},
     "output_type": "display_data"
    }
   ],
   "source": [
    "test_model = DiagnosisTestingRegressionModel(configs='configs.json')\n",
    "test_model()"
   ]
  }
 ],
 "metadata": {
  "kernelspec": {
   "display_name": "env",
   "language": "python",
   "name": "python3"
  },
  "language_info": {
   "codemirror_mode": {
    "name": "ipython",
    "version": 3
   },
   "file_extension": ".py",
   "mimetype": "text/x-python",
   "name": "python",
   "nbconvert_exporter": "python",
   "pygments_lexer": "ipython3",
   "version": "3.10.11"
  }
 },
 "nbformat": 4,
 "nbformat_minor": 2
}
