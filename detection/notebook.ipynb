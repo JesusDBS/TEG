{
 "cells": [
  {
   "cell_type": "code",
   "execution_count": 4,
   "metadata": {},
   "outputs": [],
   "source": [
    "from lstm_detection import DetectionPreprocessPipeline"
   ]
  },
  {
   "cell_type": "code",
   "execution_count": 5,
   "metadata": {},
   "outputs": [
    {
     "data": {
      "text/plain": [
       "dict_keys(['DATA_PATH', 'INPUTS_VARIABLES', 'SAMPLE_TIME', 'FEATURE_EXTRACTION_CONFIGS'])"
      ]
     },
     "execution_count": 5,
     "metadata": {},
     "output_type": "execute_result"
    }
   ],
   "source": [
    "preprocess_pipeline = DetectionPreprocessPipeline(configs='configs.json')\n",
    "preprocess_pipeline.configs.keys()"
   ]
  },
  {
   "cell_type": "code",
   "execution_count": 6,
   "metadata": {},
   "outputs": [
    {
     "data": {
      "text/plain": [
       "{'stats': False,\n",
       " 'stats_features': ['kurt', 'skew', 'crest_factor', 'peak2valley'],\n",
       " 'wave': True,\n",
       " 'wave_stats': True,\n",
       " 'wavelet_type': 'db2',\n",
       " 'wavelet_lvl': 3,\n",
       " 'time_window': 120,\n",
       " 'variables_names': [['PT_POSITION_POS58M', 'Pressure', 'PA'],\n",
       "  ['GT_POSITION_POS58M', 'Total_mass_flow', 'KG/S'],\n",
       "  ['PT_POSITION_POS1378M', 'Pressure', 'PA'],\n",
       "  ['GT_POSITION_POS1378M', 'Total_mass_flow', 'KG/S']]}"
      ]
     },
     "execution_count": 6,
     "metadata": {},
     "output_type": "execute_result"
    }
   ],
   "source": [
    "preprocess_pipeline.configs['FEATURE_EXTRACTION_CONFIGS']"
   ]
  },
  {
   "cell_type": "code",
   "execution_count": 7,
   "metadata": {},
   "outputs": [
    {
     "name": "stderr",
     "output_type": "stream",
     "text": [
      "Reading .pkl files...: 100%|██████████| 1/1 [00:03<00:00,  3.42s/file]"
     ]
    },
    {
     "name": "stdout",
     "output_type": "stream",
     "text": [
      "........._load_data is done.........\n"
     ]
    },
    {
     "name": "stderr",
     "output_type": "stream",
     "text": [
      "\n"
     ]
    }
   ],
   "source": [
    "preprocess_pipeline()"
   ]
  }
 ],
 "metadata": {
  "kernelspec": {
   "display_name": "env",
   "language": "python",
   "name": "python3"
  },
  "language_info": {
   "codemirror_mode": {
    "name": "ipython",
    "version": 3
   },
   "file_extension": ".py",
   "mimetype": "text/x-python",
   "name": "python",
   "nbconvert_exporter": "python",
   "pygments_lexer": "ipython3",
   "version": "3.10.11"
  },
  "orig_nbformat": 4
 },
 "nbformat": 4,
 "nbformat_minor": 2
}
