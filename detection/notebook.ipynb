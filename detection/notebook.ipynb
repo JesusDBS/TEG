{
 "cells": [
  {
   "cell_type": "code",
   "execution_count": 1,
   "metadata": {},
   "outputs": [
    {
     "name": "stderr",
     "output_type": "stream",
     "text": [
      "c:\\Users\\HP\\Desktop\\projects\\TEG\\env\\lib\\site-packages\\statsmodels\\compat\\pandas.py:65: FutureWarning: pandas.Int64Index is deprecated and will be removed from pandas in a future version. Use pandas.Index with the appropriate dtype instead.\n",
      "  from pandas import Int64Index as NumericIndex\n"
     ]
    }
   ],
   "source": [
    "from lstm_detection import DetectionPreprocessPipeline"
   ]
  },
  {
   "cell_type": "code",
   "execution_count": 2,
   "metadata": {},
   "outputs": [
    {
     "data": {
      "text/plain": [
       "dict_keys(['DEBUG', 'DATA_PATH', 'INPUTS_VARIABLES', 'SAMPLE_TIME', 'TIME_WINDOW', 'TIME_WINDOW_FRACTION', 'FEATURE_EXTRACTION_CONFIGS', 'LEAK_RATIO'])"
      ]
     },
     "execution_count": 2,
     "metadata": {},
     "output_type": "execute_result"
    }
   ],
   "source": [
    "preprocess_pipeline = DetectionPreprocessPipeline(configs='configs.json')\n",
    "preprocess_pipeline.configs.keys()"
   ]
  },
  {
   "cell_type": "code",
   "execution_count": 3,
   "metadata": {},
   "outputs": [
    {
     "data": {
      "text/plain": [
       "{'stats': False,\n",
       " 'stats_features': ['kurt', 'skew', 'crest_factor', 'peak2valley'],\n",
       " 'wave': True,\n",
       " 'wave_stats': True,\n",
       " 'wavelet_type': 'db2',\n",
       " 'wavelet_lvl': 3,\n",
       " 'time_window': 120,\n",
       " 'variables_names': [['PT_POSITION_POS58M', 'Pressure', 'PA'],\n",
       "  ['GT_POSITION_POS58M', 'Total_mass_flow', 'KG/S'],\n",
       "  ['PT_POSITION_POS1378M', 'Pressure', 'PA'],\n",
       "  ['GT_POSITION_POS1378M', 'Total_mass_flow', 'KG/S']]}"
      ]
     },
     "execution_count": 3,
     "metadata": {},
     "output_type": "execute_result"
    }
   ],
   "source": [
    "preprocess_pipeline.configs['FEATURE_EXTRACTION_CONFIGS']"
   ]
  },
  {
   "cell_type": "code",
   "execution_count": 4,
   "metadata": {},
   "outputs": [
    {
     "name": "stderr",
     "output_type": "stream",
     "text": [
      "Reading .pkl files...: 100%|██████████| 1/1 [00:03<00:00,  3.46s/file]\n",
      "Reading .pkl files...: 100%|██████████| 1/1 [00:03<00:00,  3.17s/file]\n",
      "Reading .pkl files...: 100%|██████████| 1/1 [00:00<00:00,  3.10file/s]\n",
      "Reading .pkl files...: 100%|██████████| 1/1 [00:00<00:00,  2.74file/s]\n",
      "Reading .pkl files...: 100%|██████████| 1/1 [00:00<00:00, 16.31file/s]\n"
     ]
    },
    {
     "name": "stdout",
     "output_type": "stream",
     "text": [
      ".........load_data is done.........\n",
      "......Processing 1 of 3816.......\n",
      "......Processing 2 of 3816.......\n",
      "......Processing 3 of 3816.......\n",
      "......Processing 4 of 3816.......\n",
      "......Processing 5 of 3816.......\n",
      "......Processing 6 of 3816.......\n",
      "......Processing 7 of 3816.......\n",
      "......Processing 8 of 3816.......\n",
      "......Processing 9 of 3816.......\n",
      "......Processing 10 of 3816.......\n",
      ".........process_data is done.........\n"
     ]
    }
   ],
   "source": [
    "preprocess_pipeline()"
   ]
  }
 ],
 "metadata": {
  "kernelspec": {
   "display_name": "env",
   "language": "python",
   "name": "python3"
  },
  "language_info": {
   "codemirror_mode": {
    "name": "ipython",
    "version": 3
   },
   "file_extension": ".py",
   "mimetype": "text/x-python",
   "name": "python",
   "nbconvert_exporter": "python",
   "pygments_lexer": "ipython3",
   "version": "3.10.11"
  },
  "orig_nbformat": 4
 },
 "nbformat": 4,
 "nbformat_minor": 2
}
